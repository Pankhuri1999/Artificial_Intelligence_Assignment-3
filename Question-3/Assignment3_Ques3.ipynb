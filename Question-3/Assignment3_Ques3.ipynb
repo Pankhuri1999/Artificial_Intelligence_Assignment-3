{
  "nbformat": 4,
  "nbformat_minor": 0,
  "metadata": {
    "colab": {
      "name": "Assignment3_Ques3.ipynb",
      "provenance": [],
      "collapsed_sections": [],
      "authorship_tag": "ABX9TyO8pd8UhCKGZBZg4tvOYy3+",
      "include_colab_link": true
    },
    "kernelspec": {
      "name": "python3",
      "display_name": "Python 3"
    },
    "language_info": {
      "name": "python"
    }
  },
  "cells": [
    {
      "cell_type": "markdown",
      "metadata": {
        "id": "view-in-github",
        "colab_type": "text"
      },
      "source": [
        "<a href=\"https://colab.research.google.com/github/Pankhuri1999/Artificial_Intelligence_Assignment-3/blob/main/Question-3/Assignment3_Ques3.ipynb\" target=\"_parent\"><img src=\"https://colab.research.google.com/assets/colab-badge.svg\" alt=\"Open In Colab\"/></a>"
      ]
    },
    {
      "cell_type": "markdown",
      "source": [
        "The steps that I followed are - \n",
        "\n",
        "\n",
        "1) In the first step, which is that of object detection, I did it through color recognition method. I detected the the object by assigning yellow colour numpy array\n",
        "\n",
        "2) In the second step, I created the code for Kalman filter\n",
        "\n",
        "3) In third steps, I created the code which computes mesaured, calculated and actal distance"
      ],
      "metadata": {
        "id": "nVOMAGL2sF0E"
      }
    },
    {
      "cell_type": "code",
      "source": [
        " # In the first step, which is that of oebject detection, I did it through color recognition method. \n",
        " #I detected the the object by assigning yellow colour numpy array\n",
        " \n",
        "import cv2\n",
        "import numpy as np\n",
        "\n",
        "\n",
        "class Detector:\n",
        "    def __init__(self):\n",
        "        self.low = np.array([22, 60, 200])\n",
        "        self.high = np.array([60, 255, 255])\n",
        "\n",
        "    def detect(self, frame):\n",
        "        hsv_img = cv2.cvtColor(frame, cv2.COLOR_BGR2HSV)\n",
        "\n",
        "        # Create masks with color ranges\n",
        "        mask = cv2.inRange(hsv_img, self.low, self.high)\n",
        "\n",
        "        # Find Contours\n",
        "        contours, _ = cv2.findContours(mask, cv2.RETR_TREE, cv2.CHAIN_APPROX_SIMPLE)\n",
        "        contours = sorted(contours, key=lambda x: cv2.contourArea(x), reverse=True)\n",
        "\n",
        "        box = (0, 0, 0, 0)\n",
        "        for cnt in contours:\n",
        "            (x, y, w, h) = cv2.boundingRect(cnt)\n",
        "            box = (x, y, x + w, y + h)\n",
        "            break\n",
        "\n",
        "        return box"
      ],
      "metadata": {
        "id": "V6SYCNpNsG9o"
      },
      "execution_count": 1,
      "outputs": []
    },
    {
      "cell_type": "code",
      "source": [
        "# Creation for kalman filter code\n",
        "import numpy as np\n",
        "\n",
        "\n",
        "class KalmanFilter:\n",
        "    kf = cv2.KalmanFilter(4, 2)\n",
        "    kf.measurementMatrix = np.array([[1, 0, 0, 0], [0, 1, 0, 0]], np.float32)\n",
        "    kf.transitionMatrix = np.array([[1, 0, 1, 0], [0, 1, 0, 1], [0, 0, 1, 0], [0, 0, 0, 1]], np.float32)\n",
        "\n",
        "    U = [0, 0]\n",
        "    #X = np.zeros(shape=(4,1))\n",
        "    X = np.array([[910], [277], [0], [0]])  # U1 = 231, 860, 323, 960\n",
        "    X1 = np.array([[57], [251], [0], [0]])   # U2 = 197,   0, 306, 114\n",
        "    std=[0.1,0,0] \n",
        "    U = np.array(U).reshape(2,-1) \n",
        "    dt = 1\n",
        "        # error in measurements x and y (ie, std deviation of measurements)\n",
        "    xm_std,ym_std,std_acc = std[0],std[1],std[2]\n",
        "\n",
        "        # Define the State Transition Matrix A\n",
        "    A = np.array([[1, 0, dt, 0],\n",
        "                            [0, 1, 0, dt],\n",
        "                            [0, 0, 1, 0],\n",
        "                            [0, 0, 0, 1]])\n",
        "        # input control matrix\n",
        "    B = np.array([[(dt**2)/2, 0],\n",
        "                            [0, (dt**2)/2],\n",
        "                            [dt,0],\n",
        "                            [0,dt]])\n",
        "\n",
        "        # since we are tracking only position of a moving object we have (we are not tracking velocity)\n",
        "    H = np.array([[1,0,0,0],[0,1,0,0]])\n",
        "\n",
        "        #process covariance matric  # for now we initialize as an identity matrix\n",
        "    P = np.eye(A.shape[0])\n",
        "\n",
        "        #process noise covariance matrix  // Dynamic noise\n",
        "        #standard deviation of position as the standard deviation of acceleration multiplied by dt**2/2\n",
        "    Q = np.array([[(dt**4)/4, 0, (dt**3)/2, 0],\n",
        "                            [0, (dt**4)/4, 0, (dt**3)/2],\n",
        "                            [(dt**3)/2, 0, dt**2, 0],\n",
        "                            [0, (dt**3)/2, 0, dt**2]]) * std_acc**2\n",
        "\n",
        "        #measurement noise covariance matrix  // Measurement noise\n",
        "    R = np.array([[xm_std**2,0],\n",
        "                           [0, ym_std**2]])\n",
        "\n",
        "    process_noise = 0\n",
        "    measurement_noise = 0\n",
        "\n",
        "    def predict(self):\n",
        "        self.X = np.dot(self.A,self.X) + np.dot(self.B,self.U) + self.process_noise\n",
        "        self.P = np.dot(np.dot(self.A,self.P),self.A.T) + self.Q\n",
        "        return self.X[0:2]\n",
        "\n",
        "    def update(self,Xm):\n",
        "        Xm = np.array(Xm).reshape(2,1)\n",
        "        \n",
        "        # calculate kalaman gain\n",
        "        # K = P * H'* inv(H*P*H'+R)\n",
        "        denominator = np.dot(self.H,np.dot(self.P,self.H.T)) + self.R\n",
        "        K = np.dot(np.dot(self.P, self.H.T), np.linalg.inv(denominator)) #shape: (4,2)\n",
        "        \n",
        "\n",
        "        # measurments\n",
        "        C = np.eye(Xm.shape[0])\n",
        "        Xm = np.dot(C,Xm) + self.measurement_noise\n",
        "\n",
        "        # update the predicted_state to get final prediction of iteration and process_cov_matrix\n",
        "        self.X = self.X + np.dot(K,(Xm - np.dot(self.H,self.X)))\n",
        "\n",
        "        #update process cov matrix\n",
        "        self.P = (np.eye(K.shape[0]) - np.dot(np.dot(K,self.H),self.P))\n",
        "        return self.X[0:2]\n"
      ],
      "metadata": {
        "id": "78jqEzBzsJQk"
      },
      "execution_count": 4,
      "outputs": []
    },
    {
      "cell_type": "code",
      "source": [
        "# Creation of actual, measured and predicted distnace\n",
        "import cv2\n",
        "\n",
        "\n",
        "cap = cv2.VideoCapture(\"ball.mp4\")\n",
        "\n",
        "# Load detector\n",
        "od = Detector()\n",
        "\n",
        "# Load Kalman filter to predict the trajectory\n",
        "kf = KalmanFilter()\n",
        " \n",
        "\n",
        "while True:\n",
        "    ret, frame = cap.read()\n",
        "    if ret is False:\n",
        "        break\n",
        "\n",
        "    bbox = od.detect(frame)\n",
        "    x, y, x2, y2 = bbox\n",
        "    cx = int((x + x2) / 2)\n",
        "    cy = int((y + y2) / 2)\n",
        "\n",
        "    predicted = kf.predict()\n",
        "    (x1, y1) = kf.update([cx, cy])\n",
        "    #cv2.rectangle(frame, (x, y), (x2, y2), (255, 0, 0), 4)\n",
        "    cv2.circle(frame, (cx, cy), 2, (0, 0, 255), 10)\n",
        "    cv2.circle(frame, (predicted[0], predicted[1]), 20, (255, 0, 0), 4)\n",
        "    cv2.circle(frame, (x1, y1), 20, (255, 255, 255), 4)\n",
        "\n",
        "    cv2.putText(frame, \"Actual Position\", (cx+15, cy+15), 0, 0.5, (0, 0, 255), 2)\n",
        "    cv2.putText(frame, \"Predicted Position\", (predicted[0]-20, predicted[1]-20), 0, 0.5, (255, 0, 0), 2)\n",
        "    cv2.putText(frame, \"Measured Position\", (x1-40, y1-40), 0, 0.5, (255, 255, 255), 2)\n",
        "\n",
        "    cv2.imshow(\"Frame\", frame)\n",
        "    key = cv2.waitKey(150)\n",
        "    if key == 27:\n",
        "        break"
      ],
      "metadata": {
        "id": "tGozh8e5se7G"
      },
      "execution_count": null,
      "outputs": []
    }
  ]
}